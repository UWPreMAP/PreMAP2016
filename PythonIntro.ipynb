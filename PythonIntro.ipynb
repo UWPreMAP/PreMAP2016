{
 "cells": [
  {
   "cell_type": "markdown",
   "metadata": {},
   "source": [
    "*much of this material is based on notebook's from Jake Vanderplas' [Intro to Scientific Computing in Python](https://github.com/jakevdp/2014_fall_ASTR599) course*"
   ]
  },
  {
   "cell_type": "markdown",
   "metadata": {},
   "source": [
    "# What is Python? \n",
    "\n",
    "Python is an open source, interpreted, and object-oriented programming language. What does this mean? It means it can be freely used and modified by others, that it does not need to be compiled to run, and that it uses the concept of data structures called \"objects\" that have both attributes (data) and methods (procedures). \n",
    "\n",
    "# Why Python?\n",
    "\n",
    "Python is a great first language to learn because you do not have to worry about things like assigning types to your variables or memory allocation, and in addition the syntax is generally very readable for first-time users. Python is also a portable skill-set--there is LOTS that Python can do both within the field of astronomy and also outside of it. Note that there are some \"cons\" to Python which require some more clever workarounds. For example, because Python is an interpreted language it can be slow compared to something like C. \n",
    "\n",
    "# Ways to Use Python: \n",
    "- IPython Notebook (type ```ipython notebook``` to start in terminal and ```ctrl-c``` to exit) \n",
    " - In a given cell, type ``Enter`` to add new lines, ``Ctrl-Return`` or ``Shift-Return`` to run a line, and ``Alt-Return`` to run a line and add a new cell)\n",
    "- Python command line interpreter (type ```python``` to start in terminal and ```ctrl-d``` to exit)\n",
    "- IPython command line interpreter (type ```ipython``` to start in terminal and ```exit``` to exit)\n",
    "- Making and editing .py files in your favorite text editor (gedit, vim, emacs, nano, et al.)\n",
    " - You can also use Python IDEs (integrated development environment) once you get more comfortable, like Spyder or PyCharm\n",
    " \n",
    "**For this class we will be using Python 2.7**"
   ]
  },
  {
   "cell_type": "markdown",
   "metadata": {},
   "source": [
    "## Hello, World!\n",
    "\n",
    "This is one the most simple programs to write in any language, so it's what we'll learn first. In Python it's extra easy, and there are a couple of different ways you could go about it. Let's first try it interactively, and then see how we might run it from a .py file instead. "
   ]
  },
  {
   "cell_type": "code",
   "execution_count": null,
   "metadata": {
    "collapsed": false
   },
   "outputs": [],
   "source": [
    "print \"hello, world!\""
   ]
  },
  {
   "cell_type": "code",
   "execution_count": null,
   "metadata": {
    "collapsed": false
   },
   "outputs": [],
   "source": [
    "%%bash\n",
    "echo \"print 'hello, world!'\" > hello.py # write our .py file \n",
    "cat hello.py # print the contents of this file to the screen\n",
    "python hello.py # run the python script "
   ]
  },
  {
   "cell_type": "markdown",
   "metadata": {},
   "source": [
    "# Basic Cheat Sheet\n",
    "## Variable Types in Python\n",
    "- **Numbers**\n",
    " - ``int`` (integers, limited to 64bit representation), i.e. 10 \n",
    " - ``float`` (floating point real values), i.e 6.2 \n",
    " - ``long`` (long integers, limited only to available memory), i.e 10L\n",
    " - ``complex`` (complex numbers), i.e. 0.5j\n",
    "- **String**, i.e. \"hello, world!\"\n",
    "- **List**, i.e. [1,'star', 3, 'planet', 7]\n",
    "- **Tuple**, i.e. (1, 'star', 3, 'planet',7)\n",
    " - think of this as a \"read-only\" list\n",
    "- **Dictionary**, i.e. {'star': 'sun', 'planet': 'earth'}\n",
    " - think of dictionaries as \"key-value\" pairs\n",
    "\n",
    "## Arithmetic in Python\n",
    "- ``+`` : addition\n",
    "- ``-``: subtraction\n",
    "- ``/``: division\n",
    "- ``*``: multiplication\n",
    "- ``%``: modulus (remainder)\n",
    "- ``**``: exponentiation\n",
    "\n",
    "## Comparisons and Boolean Operators in Python\n",
    "\n",
    "- ``==``, ``!=``: equal to, not equal to\n",
    "- ``<``, ``<=``: less than, less than or equal to\n",
    "- ``>``, ``>=``: greater than, greater than or equal to\n",
    "- ``or``, i.e ``A or B``: true if either A or B or both are true\n",
    "- ``and``, i.e. ``A and B``: true only if both are true \n",
    "- ``not``, i.e. ``not A``: true only if A is false"
   ]
  },
  {
   "cell_type": "markdown",
   "metadata": {},
   "source": [
    "## Basic Data Types in Python"
   ]
  },
  {
   "cell_type": "code",
   "execution_count": null,
   "metadata": {
    "collapsed": false
   },
   "outputs": [],
   "source": [
    "# Beginning a line with \"#\" is a comment that is ignored by python\n",
    "myint = 8 # assigns the integer value to the variable myint\n",
    "print myint # shows the value assigned to myint on the screen\n",
    "print type(myint) # shows the variable type of myint, note that we did not have to specify this! python got it. "
   ]
  },
  {
   "cell_type": "markdown",
   "metadata": {},
   "source": [
    "NOTE: in an IPython Notebook, or IPython itself you don't need to use print to get the value of the variable to show on the screen, you only need to type the variable itself. Try it! "
   ]
  },
  {
   "cell_type": "code",
   "execution_count": null,
   "metadata": {
    "collapsed": false
   },
   "outputs": [],
   "source": [
    "myfloat = 8. # note the difference in the trailing \".\" for a float. This is important for calculations!\n",
    "print myfloat\n",
    "print type(myfloat)"
   ]
  },
  {
   "cell_type": "code",
   "execution_count": null,
   "metadata": {
    "collapsed": false
   },
   "outputs": [],
   "source": [
    "mycomplex = 3.0 + 4.1j # note that the imaginary part of complex numbers get a trailing \"j\"\n",
    "print mycomplex\n",
    "print type(mycomplex)"
   ]
  },
  {
   "cell_type": "code",
   "execution_count": null,
   "metadata": {
    "collapsed": false
   },
   "outputs": [],
   "source": [
    "mystring = \"stars are so cool\" # assigns the string to the variable mystring\n",
    "print mystring \n",
    "print type(mystring) "
   ]
  },
  {
   "cell_type": "code",
   "execution_count": null,
   "metadata": {
    "collapsed": false
   },
   "outputs": [],
   "source": [
    "mylist = [1,5,'star','9', 'planet'] # lists can have mixed variable types. \n",
    "                                    #they should be comma separated and in square brackets\n",
    "print mylist\n",
    "print type(mylist)"
   ]
  },
  {
   "cell_type": "code",
   "execution_count": null,
   "metadata": {
    "collapsed": false
   },
   "outputs": [],
   "source": [
    "otherlist = [mylist, 'earth', 'mars'] # you can put lists inside lists!\n",
    "print otherlist # you can see from the output that mylist stores  the list above and acts as shorthand"
   ]
  },
  {
   "cell_type": "code",
   "execution_count": null,
   "metadata": {
    "collapsed": false
   },
   "outputs": [],
   "source": [
    "mylist.append(42) # lists can be appended to. we call this a method of the list object \n",
    "print mylist"
   ]
  },
  {
   "cell_type": "code",
   "execution_count": null,
   "metadata": {
    "collapsed": false
   },
   "outputs": [],
   "source": [
    "mylist.pop(0) # lists can have items deleted from this, in this case the first item in the list\n",
    "print mylist"
   ]
  },
  {
   "cell_type": "code",
   "execution_count": null,
   "metadata": {
    "collapsed": false
   },
   "outputs": [],
   "source": [
    "mylist.sort() # lists can also be sorted or reverse sorted \n",
    "print mylist"
   ]
  },
  {
   "cell_type": "code",
   "execution_count": null,
   "metadata": {
    "collapsed": false
   },
   "outputs": [],
   "source": [
    "mytuple = (1,5,'star','9','planet') # tuples are like read-only lists, and use parenthese, NOT square brackets \n",
    "print mytuple\n",
    "print type(mytuple)"
   ]
  },
  {
   "cell_type": "code",
   "execution_count": null,
   "metadata": {
    "collapsed": false
   },
   "outputs": [],
   "source": [
    "mydictionary = {'star': 'sun', 'planet': 'earth', 'satellite': 'moon'} # dictionaries are enclosed in curly brackets \n",
    "                                                                        # are made up of key value pairs \n",
    "print mydictionary\n",
    "print type(mydictionary)"
   ]
  },
  {
   "cell_type": "code",
   "execution_count": null,
   "metadata": {
    "collapsed": false
   },
   "outputs": [],
   "source": [
    "print mydictionary['star'] # look up a value in a dictionary by keyword. here keyword is \"star\" and value is \"sun\"\n",
    "print mydictionary.keys() # print all keys in dictionary\n",
    "print mydictionary.values() # print all values in dictionary "
   ]
  },
  {
   "cell_type": "code",
   "execution_count": null,
   "metadata": {
    "collapsed": false
   },
   "outputs": [],
   "source": [
    "mydictionary = {'list1': mylist, 'list2': otherlist} # we can assign lists to be values in a dictionary!\n",
    "print mydictionary['list1'] # finds the value (in this case a list) associated with key \"list1\""
   ]
  },
  {
   "cell_type": "markdown",
   "metadata": {},
   "source": [
    "## Arithmetic Operations and Variable Assignment "
   ]
  },
  {
   "cell_type": "code",
   "execution_count": null,
   "metadata": {
    "collapsed": false
   },
   "outputs": [],
   "source": [
    "print 2 + 2 # basic addition of integers in python"
   ]
  },
  {
   "cell_type": "code",
   "execution_count": null,
   "metadata": {
    "collapsed": false
   },
   "outputs": [],
   "source": [
    "print 2*3 # basic multiplication of integers in python"
   ]
  },
  {
   "cell_type": "code",
   "execution_count": null,
   "metadata": {
    "collapsed": false
   },
   "outputs": [],
   "source": [
    "print 19 - 7 # basic subtraction of integers in python"
   ]
  },
  {
   "cell_type": "code",
   "execution_count": null,
   "metadata": {
    "collapsed": false
   },
   "outputs": [],
   "source": [
    "print 6 / 3 # basic division of integers in python"
   ]
  },
  {
   "cell_type": "code",
   "execution_count": null,
   "metadata": {
    "collapsed": false
   },
   "outputs": [],
   "source": [
    "print 6 / 5 # in python 2.7 you have to be careful about using integers for division! integer operations give \n",
    "            # you back an integer, NOT a float. "
   ]
  },
  {
   "cell_type": "code",
   "execution_count": null,
   "metadata": {
    "collapsed": false
   },
   "outputs": [],
   "source": [
    "# It is usually safe just to use floats when doing division if you don't want to get an error like above.\n",
    "print 6 / 5. # remember the trailing \".\" tells python we want to use a float"
   ]
  },
  {
   "cell_type": "code",
   "execution_count": null,
   "metadata": {
    "collapsed": false
   },
   "outputs": [],
   "source": [
    "print 10 % 6 # this is the modulus (remainder) operator"
   ]
  },
  {
   "cell_type": "code",
   "execution_count": null,
   "metadata": {
    "collapsed": false
   },
   "outputs": [],
   "source": [
    "print 2**2 # basic exponentiation"
   ]
  },
  {
   "cell_type": "code",
   "execution_count": null,
   "metadata": {
    "collapsed": false
   },
   "outputs": [],
   "source": [
    "print 3.154e+7 # note that you can do scientific notation as well\n",
    "               # this is the same as 3.154*10**7"
   ]
  },
  {
   "cell_type": "markdown",
   "metadata": {},
   "source": [
    "We can also do arithmetic on strings! "
   ]
  },
  {
   "cell_type": "code",
   "execution_count": null,
   "metadata": {
    "collapsed": false
   },
   "outputs": [],
   "source": [
    "subject = \"ASTRO\"\n",
    "course = \"192\"\n",
    "print subject+course"
   ]
  },
  {
   "cell_type": "code",
   "execution_count": null,
   "metadata": {
    "collapsed": false
   },
   "outputs": [],
   "source": [
    "print \"there are\" + 3.154e+7 + \"seconds in a year\" # why won't this work?"
   ]
  },
  {
   "cell_type": "code",
   "execution_count": null,
   "metadata": {
    "collapsed": false
   },
   "outputs": [],
   "source": [
    "print \"\\t there are \\n \" + str(3.154e+7) + \" seconds in a year\" # need to make it a string. escape characters\n",
    "                                                            # like \\n and \\t do things like \"newline\" and \"tab\""
   ]
  },
  {
   "cell_type": "code",
   "execution_count": null,
   "metadata": {
    "collapsed": false
   },
   "outputs": [],
   "source": [
    "print \"o*\"*50"
   ]
  },
  {
   "cell_type": "markdown",
   "metadata": {
    "collapsed": true
   },
   "source": [
    "Instead of doing all our calculations like this in Python, let's look at how we can make things easier using variable assignment. "
   ]
  },
  {
   "cell_type": "code",
   "execution_count": null,
   "metadata": {
    "collapsed": false
   },
   "outputs": [],
   "source": [
    "c = 3.0*10**5 # speed of light (c) in km/s\n",
    "diameter_lyr = 120000 # diameter of mw in lyr \n",
    "s_per_yr = 3.154e+7 # number of seconds in a year \n",
    "diameter_km = diameter_lyr*c*s_per_yr # diameter of mw in km \n",
    "print diameter_km"
   ]
  },
  {
   "cell_type": "markdown",
   "metadata": {},
   "source": [
    "Or, we can make this look even simpler with a nice trick in Python. "
   ]
  },
  {
   "cell_type": "code",
   "execution_count": null,
   "metadata": {
    "collapsed": false
   },
   "outputs": [],
   "source": [
    "c, diameter_lyr, s_per_yr = 3.0*10**5,120000, 3.154e+7 # define all variables on one line \n",
    "diameter_km = diameter_lyr*c*s_per_yr # diameter of mw in km \n",
    "print diameter_km"
   ]
  },
  {
   "cell_type": "markdown",
   "metadata": {},
   "source": [
    "Another neat arithmetic trick is doing \"operate-and-assign,\" which will likely become more important for loops."
   ]
  },
  {
   "cell_type": "code",
   "execution_count": null,
   "metadata": {
    "collapsed": false
   },
   "outputs": [],
   "source": [
    "y = 3\n",
    "y += 3 # y = y + 3\n",
    "print y"
   ]
  },
  {
   "cell_type": "markdown",
   "metadata": {},
   "source": [
    "## Comparison Operators and Boolean Variables"
   ]
  },
  {
   "cell_type": "code",
   "execution_count": null,
   "metadata": {
    "collapsed": false
   },
   "outputs": [],
   "source": [
    "mass_of_sun = 1.989*10**30 # mass of sun in kg\n",
    "mass_of_earth = 5.972*10**24 # mass of earth in kg\n",
    "mass_of_earth < mass_of_sun # here we are making a comparison that is evaluated to true "
   ]
  },
  {
   "cell_type": "code",
   "execution_count": null,
   "metadata": {
    "collapsed": false
   },
   "outputs": [],
   "source": [
    "mass_of_sun == mass_of_earth # this comparison operator means \"equal to,\" note that it is NOT the same as \"=\" which\n",
    "                            # assigns a value to a variable "
   ]
  },
  {
   "cell_type": "code",
   "execution_count": null,
   "metadata": {
    "collapsed": false
   },
   "outputs": [],
   "source": [
    "mass_of_sun != mass_of_earth # this comparison operator means \"not equal to\""
   ]
  },
  {
   "cell_type": "markdown",
   "metadata": {},
   "source": [
    "We can also string together multiple inequalities: "
   ]
  },
  {
   "cell_type": "code",
   "execution_count": null,
   "metadata": {
    "collapsed": false
   },
   "outputs": [],
   "source": [
    "mass_of_moon = 7.35*10**22 # mass of moon in kg\n",
    "mass_of_moon < mass_of_earth < mass_of_sun"
   ]
  },
  {
   "cell_type": "markdown",
   "metadata": {},
   "source": [
    "Note that you should be careful about doing comparisons on floating point values since these are stored in a \n",
    "specific way. "
   ]
  },
  {
   "cell_type": "code",
   "execution_count": null,
   "metadata": {
    "collapsed": false
   },
   "outputs": [],
   "source": [
    "0.1 + 0.2 == 0.3 # this equality returns False, why?"
   ]
  },
  {
   "cell_type": "code",
   "execution_count": null,
   "metadata": {
    "collapsed": false
   },
   "outputs": [],
   "source": [
    "print \"%.20f\" % (0.1 + 0.2) # don't worry about the print statements now; they tell us how many decimals to print \n",
    "print \"%0.20f\" % (0.3) # clearly these two are not equal! careful with floats."
   ]
  },
  {
   "cell_type": "markdown",
   "metadata": {},
   "source": [
    "Now that we've seen the \"Boolean\" variables True and False in Python let's take a look at logical operators\n",
    "that can test these Boolean variables."
   ]
  },
  {
   "cell_type": "code",
   "execution_count": null,
   "metadata": {
    "collapsed": false
   },
   "outputs": [],
   "source": [
    "(mass_of_moon < mass_of_earth) and (mass_of_earth < mass_of_sun) # both MUST be true for this to return true"
   ]
  },
  {
   "cell_type": "code",
   "execution_count": null,
   "metadata": {
    "collapsed": false
   },
   "outputs": [],
   "source": [
    "(mass_of_moon > mass_of_earth) or (mass_of_earth < mass_of_sun) # only one must be true for this to return true"
   ]
  },
  {
   "cell_type": "code",
   "execution_count": null,
   "metadata": {
    "collapsed": false
   },
   "outputs": [],
   "source": [
    "(mass_of_moon > mass_of_earth) or not (mass_of_earth > mass_of_sun) # what do you expect this to return?"
   ]
  },
  {
   "cell_type": "code",
   "execution_count": null,
   "metadata": {
    "collapsed": false
   },
   "outputs": [],
   "source": [
    "(mass_of_moon > mass_of_earth) or (mass_of_earth > mass_of_sun) # what do you expect this to return?"
   ]
  },
  {
   "cell_type": "markdown",
   "metadata": {},
   "source": [
    "## Importing Modules and Using Built-In Functions:\n",
    "## Using Arrays in Python"
   ]
  },
  {
   "cell_type": "markdown",
   "metadata": {},
   "source": [
    "A lot of functionality in Python comes from being able to use pre-existing modules and the functions\n",
    "therein to perform specific operations. We will go through the syntax for doing this, below, and in addition talk about some of the most useful modules for astronomy that exist in Python. We will talk about building our own functions in a later lesson. A module is just an organized piece of code (.py files are treated as modules, for example). \n",
    "\n",
    "To import a module you simply type the following:\n",
    "\n",
    "**``import module``**\n",
    "\n",
    "To then use a function from this module you would do the following:\n",
    "\n",
    "**``module.function(x)``**\n",
    "\n",
    "Where x is going to be whatever the function takes as its argument. There may be more than one argument that the function takes, in which case you could have **``function(x,y,z)``**. \n",
    "\n",
    "Modules may also have sub-modules that in turn have their own functions you want to use, in which case you would \n",
    "type this:\n",
    "\n",
    "**``from module1 import module2``**\n",
    "\n",
    "**``module2.function(x)``**\n",
    "\n",
    "Lastly, you can change the name of a module in your code for ease of typing if it is something you use quite often. For example:\n",
    "\n",
    "**``import module as mod``**\n",
    "\n",
    "**``mod.function``**\n",
    "\n",
    "Let's take a look at a concrete example for one of the most useful modules you will come across in python. This module is called **\"numpy\"** and makes using arrays (which we will discuss momentarily) and doing mathematical operations on\n",
    "these arrays very simple. "
   ]
  },
  {
   "cell_type": "code",
   "execution_count": null,
   "metadata": {
    "collapsed": true
   },
   "outputs": [],
   "source": [
    "import numpy as np # import the numpy module so that we can use all it's built-in functions. shorten the name for ease."
   ]
  },
  {
   "cell_type": "code",
   "execution_count": null,
   "metadata": {
    "collapsed": true
   },
   "outputs": [],
   "source": [
    "myarray = np.zeros(5) # this is a built-in function from the module numpy that creates an array of zeros\n",
    "                      # the size of the array is the argument to zeros, in this case 5"
   ]
  },
  {
   "cell_type": "code",
   "execution_count": null,
   "metadata": {
    "collapsed": false
   },
   "outputs": [],
   "source": [
    "print myarray # the default type for values IN the array from np.zeros is float \n",
    "print myarray.dtype"
   ]
  },
  {
   "cell_type": "code",
   "execution_count": null,
   "metadata": {
    "collapsed": false
   },
   "outputs": [],
   "source": [
    "myarray = np.zeros(5, dtype='int') # but we can change the type of value inside an array in this way\n",
    "print myarray.dtype"
   ]
  },
  {
   "cell_type": "code",
   "execution_count": null,
   "metadata": {
    "collapsed": false
   },
   "outputs": [],
   "source": [
    "print myarray.shape # you can also get other properties of your array in this way (like dtype above)\n",
    "print myarray.size"
   ]
  },
  {
   "cell_type": "code",
   "execution_count": null,
   "metadata": {
    "collapsed": false
   },
   "outputs": [],
   "source": [
    "print myarray.sum() # there are also methods like sum, mean, min, and max for arrays"
   ]
  },
  {
   "cell_type": "markdown",
   "metadata": {},
   "source": [
    "Sidebar: how are arrays different from lists that we have seen above? We have seen this lists can store heterogenous data (data that contains different types). Arrays, on the other hand, should store homogenous data (data of the same type), and are usually used for storing things that you want to perform fast mathematical operations on. Arrays can speed things up a lot in Python as we will see later. Arrays are NOT comma separated like a list, but the elements of \n",
    "an array can be accessed just like the individual elements of a list can (again, as we will see later)."
   ]
  },
  {
   "cell_type": "code",
   "execution_count": null,
   "metadata": {
    "collapsed": false
   },
   "outputs": [],
   "source": [
    "myarray + 2 # we can do mathematical operations on arrays for the WHOLE array at once! very powerful. "
   ]
  },
  {
   "cell_type": "code",
   "execution_count": null,
   "metadata": {
    "collapsed": false
   },
   "outputs": [],
   "source": [
    "myarray = myarray + 10 # note that the above cell did not change the value of the whole array because we didn't \n",
    "                       # assign that operation to any variable. now we have done this"
   ]
  },
  {
   "cell_type": "code",
   "execution_count": null,
   "metadata": {
    "collapsed": false
   },
   "outputs": [],
   "source": [
    "np.log10(myarray) # this is another built-in function from numpy that allows you to take the log\n",
    "                  # of the whole array (in base 10)"
   ]
  },
  {
   "cell_type": "code",
   "execution_count": null,
   "metadata": {
    "collapsed": false
   },
   "outputs": [],
   "source": [
    "help(np.zeros) # using this help function is much like \"man\" in bash. it will tell us more about this function"
   ]
  },
  {
   "cell_type": "markdown",
   "metadata": {},
   "source": [
    "You can also make arrays in Python which are not strictly 1-d. For example:"
   ]
  },
  {
   "cell_type": "code",
   "execution_count": null,
   "metadata": {
    "collapsed": false
   },
   "outputs": [],
   "source": [
    "mymatrix = np.zeros((5,3)) # python uses row-column notation, so this creates a matrix of five rows and three columns\n",
    "print mymatrix"
   ]
  },
  {
   "cell_type": "markdown",
   "metadata": {},
   "source": [
    "So we have seen now how to create arrays and lists and how to do operations on these as a whole, but how do we \n",
    "access individual elements of these arrays or lists? To do this we need to learn about array and list indexing and how\n",
    "to \"slice\" arrays in Python. This is a pictorial represenation of how indexing and slicing works with python arrays. Notice how it starts with ZERO. Python is a \"zero-indexing\" language.\n",
    "\n",
    "<img src=\"images/string-slicing.png\">"
   ]
  },
  {
   "cell_type": "code",
   "execution_count": null,
   "metadata": {
    "collapsed": false
   },
   "outputs": [],
   "source": [
    "myarray[2] = 80. # this assigns a value to the THIRD element of my array. you can see that it's not different! \n",
    "myarray"
   ]
  },
  {
   "cell_type": "code",
   "execution_count": null,
   "metadata": {
    "collapsed": false
   },
   "outputs": [],
   "source": [
    "myarray[:3] = 0. # this assigns the value to the first through third (NOT including fourth) elements of my array\n",
    "                 # this is an example of array slicing\n",
    "myarray"
   ]
  },
  {
   "cell_type": "markdown",
   "metadata": {},
   "source": [
    "Let's look at a more complicated way to slice arrays:"
   ]
  },
  {
   "cell_type": "code",
   "execution_count": null,
   "metadata": {
    "collapsed": false
   },
   "outputs": [],
   "source": [
    "bins = np.zeros(5) + np.arange(5) # this creates an array of zeros, and then uses another built in function of numpy\n",
    "                               # called arange to populate each element of this array with different values\n",
    "bins # notice how arange gives you the \"range\" of the input value 5, but starts again with zero. "
   ]
  },
  {
   "cell_type": "code",
   "execution_count": null,
   "metadata": {
    "collapsed": false
   },
   "outputs": [],
   "source": [
    "bins = np.zeros(5) + np.arange(6) # why won't this work?"
   ]
  },
  {
   "cell_type": "code",
   "execution_count": null,
   "metadata": {
    "collapsed": false
   },
   "outputs": [],
   "source": [
    "len(bins) # you can always check the size of your array using \"len\""
   ]
  },
  {
   "cell_type": "code",
   "execution_count": null,
   "metadata": {
    "collapsed": false
   },
   "outputs": [],
   "source": [
    "bins = np.arange(5) # note that there are multiple ways to create this array, all of which work fine\n",
    "bins"
   ]
  },
  {
   "cell_type": "code",
   "execution_count": null,
   "metadata": {
    "collapsed": false
   },
   "outputs": [],
   "source": [
    "bincenters = (bins[1:] + bins[:-1])*0.5 # slicing the array in this way gives me the \"centers\" of my previous values\n",
    "bincenters"
   ]
  },
  {
   "cell_type": "code",
   "execution_count": null,
   "metadata": {
    "collapsed": false
   },
   "outputs": [],
   "source": [
    "# let's try to see in detail how this slicing works, step-by-step:\n",
    "print \"first bin slice: %s\" % str(bins[1:])\n",
    "print \"second bin slice: %s\" % str(bins[:-1])\n",
    "print \"bin slices added: %s\" % (str(bins[1:] + bins[:-1]))\n",
    "print \"bin centers: %s\" % str(bincenters)"
   ]
  },
  {
   "cell_type": "markdown",
   "metadata": {},
   "source": [
    "Now that we know more about indexing and slicing, we can even access individual elements of matrices!"
   ]
  },
  {
   "cell_type": "code",
   "execution_count": null,
   "metadata": {
    "collapsed": false
   },
   "outputs": [],
   "source": [
    "mymatrix # recall we made this 5x3 matrix earlier "
   ]
  },
  {
   "cell_type": "code",
   "execution_count": null,
   "metadata": {
    "collapsed": false
   },
   "outputs": [],
   "source": [
    "mymatrix[0] = 6. # assigns the value 6 to first ROW of the matrix \n",
    "mymatrix[0,0] = 10. # assigns the vlaue 10 to the first element of the first column in the first row\n",
    "mymatrix"
   ]
  },
  {
   "cell_type": "code",
   "execution_count": null,
   "metadata": {
    "collapsed": false
   },
   "outputs": [],
   "source": [
    "print mymatrix[:,0] # accesses first column of matrix \n",
    "print mymatrix[0,:] # accesses first row of matrix"
   ]
  },
  {
   "cell_type": "markdown",
   "metadata": {},
   "source": [
    "Now that we know more about array slicing and indexing, let's look at another powerful function of numpy called \"where:\""
   ]
  },
  {
   "cell_type": "code",
   "execution_count": null,
   "metadata": {
    "collapsed": false
   },
   "outputs": [],
   "source": [
    "arr = np.linspace(0,35) # another built-in numpy function for making evenly spaced array over given interval\n",
    "print np.where(arr > 10.) # here we have used where to find the INDICES where the array is greater than 10 "
   ]
  },
  {
   "cell_type": "code",
   "execution_count": null,
   "metadata": {
    "collapsed": false
   },
   "outputs": [],
   "source": [
    "indices = np.where(arr > 10.) # assign the variable indices with these values from above \n",
    "arr[indices] # now reindex our array with these indices and we get the VALUES at those indices"
   ]
  },
  {
   "cell_type": "code",
   "execution_count": null,
   "metadata": {
    "collapsed": false
   },
   "outputs": [],
   "source": [
    "arr[np.where(arr > 10.)] # you can also skip a step above and write it like this"
   ]
  },
  {
   "cell_type": "code",
   "execution_count": null,
   "metadata": {
    "collapsed": false
   },
   "outputs": [],
   "source": [
    "arr[np.where(arr >= np.max(arr))] # what do you think this will do? combines the operators we learned before"
   ]
  },
  {
   "cell_type": "markdown",
   "metadata": {
    "collapsed": true
   },
   "source": [
    "We simply do not have enough time to go over all the different methods you can use on arrays or all the different functions built-in to numpy, but you can look up plenty of documentation for these yourself online. See [here](http://docs.scipy.org/doc/numpy/reference/routines.html) for some useful numpy documentation or use help() as I showed before. "
   ]
  },
  {
   "cell_type": "code",
   "execution_count": null,
   "metadata": {
    "collapsed": true
   },
   "outputs": [],
   "source": []
  }
 ],
 "metadata": {
  "kernelspec": {
   "display_name": "Python 2",
   "language": "python",
   "name": "python2"
  },
  "language_info": {
   "codemirror_mode": {
    "name": "ipython",
    "version": 2
   },
   "file_extension": ".py",
   "mimetype": "text/x-python",
   "name": "python",
   "nbconvert_exporter": "python",
   "pygments_lexer": "ipython2",
   "version": "2.7.10"
  }
 },
 "nbformat": 4,
 "nbformat_minor": 0
}
