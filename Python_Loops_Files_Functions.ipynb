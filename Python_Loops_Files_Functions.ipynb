{
 "cells": [
  {
   "cell_type": "markdown",
   "metadata": {},
   "source": [
    "# Python: Loops, File I/O and Functions"
   ]
  },
  {
   "cell_type": "markdown",
   "metadata": {},
   "source": [
    "In the previous lesson we learned the very basics of python: variable types, how to work with arrays, and how to use python modules and their built-in fuctions. In this lesson we are going to take all this one step further and learn about control flow using loops, how to read and write files, and how to write our own functions in python scripts. "
   ]
  },
  {
   "cell_type": "markdown",
   "metadata": {},
   "source": [
    "## Loops and Conditional Statements"
   ]
  },
  {
   "cell_type": "markdown",
   "metadata": {},
   "source": [
    "There are a few basic types of control flow statements that we will learn. These are as follows: \n",
    "- **for:** executes indentation block FOR items in the list/array. \n",
    "- **while:** executs indentation block WHILE the statement is true. \n",
    "- **if:** executes the indentation block IF the statement is true. statement must be something that can evaluate to\n",
    "true or false. \n",
    "\n",
    "Let's look at some very basic examples. Notice that tabs (indentation) matters in python! Blocks of text following \n",
    "a for, while or if statement must be indented to run properly. "
   ]
  },
  {
   "cell_type": "markdown",
   "metadata": {},
   "source": [
    "## If Statements and While Loops"
   ]
  },
  {
   "cell_type": "code",
   "execution_count": null,
   "metadata": {
    "collapsed": false
   },
   "outputs": [],
   "source": [
    "x = 5. # assign value of 5 to variable x \n",
    "if x < 10: # the statement we are testing. IF this statement is true...\n",
    "    print(x) # this block of text will execute. the next line after if, while, or for should always be indented. "
   ]
  },
  {
   "cell_type": "code",
   "execution_count": null,
   "metadata": {
    "collapsed": false
   },
   "outputs": [],
   "source": [
    "if x == 5.: # recall the \"==\" is used to TEST whether two values are equal to one another \n",
    "    print(\"True\")\n",
    "else: # if, elif, else statements can be used to test multiple cases\n",
    "    print(\"False\")"
   ]
  },
  {
   "cell_type": "code",
   "execution_count": null,
   "metadata": {
    "collapsed": false
   },
   "outputs": [],
   "source": [
    "y = 5. # assign value of 5 to variable y \n",
    "while y < 10: # this is the statement we are testing. WHILE this statement is true...\n",
    "    print(y) # print the value of y \n",
    "    y += 1 #then add one to y. so this will only execute WHILE x < 10, as we can see from the output"
   ]
  },
  {
   "cell_type": "markdown",
   "metadata": {},
   "source": [
    "## Iteration with For Loops "
   ]
  },
  {
   "cell_type": "code",
   "execution_count": null,
   "metadata": {
    "collapsed": false
   },
   "outputs": [],
   "source": [
    "# here we iterate over the items in a list \n",
    "z = range(5) # make a list of integers using function range\n",
    "for i in z: # for each value \"i\" in my array z...\n",
    "    print(i) # print that value i \n",
    "    \n",
    "# this will take the value i and set it equal to the first value in the list. then will will\n",
    "# execute the indentation block and set i equal to the NEXT value in the list, and so on. "
   ]
  },
  {
   "cell_type": "code",
   "execution_count": null,
   "metadata": {
    "collapsed": false
   },
   "outputs": [],
   "source": [
    "# we could just as easily do the following, which is equivalent to the above:\n",
    "for i in range(5):\n",
    "    print(i)"
   ]
  },
  {
   "cell_type": "code",
   "execution_count": null,
   "metadata": {
    "collapsed": false
   },
   "outputs": [],
   "source": [
    "# we can also combine range() and len() to iterate over the indices of a list or array \n",
    "solar_system = ['sun', 'moon', 'earth', 'pluto']\n",
    "for i in range(len(solar_system)):\n",
    "    print(i, solar_system[i])"
   ]
  },
  {
   "cell_type": "code",
   "execution_count": null,
   "metadata": {
    "collapsed": false
   },
   "outputs": [],
   "source": [
    "# what is this for loop doing? \n",
    "for i in solar_system:\n",
    "    print(i, len(i))"
   ]
  },
  {
   "cell_type": "code",
   "execution_count": null,
   "metadata": {
    "collapsed": false
   },
   "outputs": [],
   "source": [
    "# perhaps a more useful example: what if i want to make everything in my list a float? \n",
    "magnitudes = ['-1.46', '-0.04', '0.12', '0.5', '1.25']\n",
    "for i in range(len(magnitudes)):\n",
    "    magnitudes[i] = float(magnitudes[i])\n",
    "print(magnitudes) "
   ]
  },
  {
   "cell_type": "code",
   "execution_count": null,
   "metadata": {
    "collapsed": false
   },
   "outputs": [],
   "source": [
    "# An example nested for loops for dictionary construction\n",
    "names = ['Sirius', 'Arcturus', 'Rigel', 'Betelgeuse', 'Deneb']\n",
    "magnitudes = ['-1.46', '-0.04', '0.12', '0.5', '1.25']\n",
    "for starname in names:\n",
    "    for starmag in magnitudes:\n",
    "        brightstars[starname] = starmag\n",
    "print(brightstars)"
   ]
  },
  {
   "cell_type": "markdown",
   "metadata": {},
   "source": [
    "## List Comprehension in Python\n",
    "List comprehensions are a fancy way to make lists \"on-the-fly\" in python. We can look at an example of how to simplify the above statement. Let's translate the for loop into a list comprehension:"
   ]
  },
  {
   "cell_type": "code",
   "execution_count": null,
   "metadata": {
    "collapsed": false
   },
   "outputs": [],
   "source": [
    "magnitudes_lc = [float(i) for i in magnitudes] # for each value i in magnitudes, make that value i into a float. \n",
    "print(magnitudes_lc)"
   ]
  },
  {
   "cell_type": "code",
   "execution_count": null,
   "metadata": {
    "collapsed": true
   },
   "outputs": [],
   "source": [
    "# Try it yourself. Turn the following for loop into a list comprehension:\n",
    "empty_list = [] # create an empty list \n",
    "for num in range(50):\n",
    "    empty_list.append(num)\n",
    "  "
   ]
  },
  {
   "cell_type": "code",
   "execution_count": null,
   "metadata": {
    "collapsed": true
   },
   "outputs": [],
   "source": [
    "# Hint: You do not actually need to do append! A list comprehension will build up the list without using that function.\n",
    "\n"
   ]
  },
  {
   "cell_type": "markdown",
   "metadata": {},
   "source": [
    "## Combining Control Flow Loops"
   ]
  },
  {
   "cell_type": "code",
   "execution_count": null,
   "metadata": {
    "collapsed": false
   },
   "outputs": [],
   "source": [
    "num_array = range(20)\n",
    "for i in num_array:\n",
    "    if i < 1: # for multiple if statements use if, elif, else. \n",
    "        print(\"Zero\")\n",
    "    elif (i <= 1) & (x > 0): # you can combine comparison operators! \n",
    "        print(\"One\")\n",
    "    elif i == 2:\n",
    "        print(\"Two\")\n",
    "    elif (i > 2) & (i <= 3):\n",
    "        pass # pass does nothing \n",
    "    elif i > 3:\n",
    "        break # break quits the loop"
   ]
  },
  {
   "cell_type": "code",
   "execution_count": null,
   "metadata": {
    "collapsed": false
   },
   "outputs": [],
   "source": [
    "# use a for loop to pick out even numbers! \n",
    "for num in range(2,10):\n",
    "    if num % 2 == 0: # note the \"==\" this is for checking whether two values are equal, i.e. it is doing \"?=\"\n",
    "        print(\"Even number {}\".format(num))\n",
    "        continue # this tells the loop to continue, although it is not *required* that you use this\n",
    "    elif num % 2 != 0:\n",
    "        print(\"Odd number {}\".format(num))\n",
    "        break # try commenting out the break to see what happens! \n",
    "         "
   ]
  },
  {
   "cell_type": "code",
   "execution_count": null,
   "metadata": {
    "collapsed": false
   },
   "outputs": [],
   "source": [
    "# try it for yourself! write a loop that takes the following list and prints only the \n",
    "# words that are longer than four letters. \n",
    "# helpful hint: you will need a for loop and an if statement. \n",
    "solar_system_objects = ['sun', 'moon', 'earth', 'mars', 'pluto', 'neptune', 'venus', 'mercury']\n",
    "\n"
   ]
  },
  {
   "cell_type": "markdown",
   "metadata": {},
   "source": [
    "## File I/O: Reading Files"
   ]
  },
  {
   "cell_type": "markdown",
   "metadata": {},
   "source": [
    "Since we are already familiar with the built-in module \"numpy\" in python, let's use some of its functions to read and write data files. There are many other ways to read and write files in python; this is just a little something to get us started."
   ]
  },
  {
   "cell_type": "code",
   "execution_count": null,
   "metadata": {
    "collapsed": true
   },
   "outputs": [],
   "source": [
    "import numpy as np\n",
    "# numpy has a function called \"loadtxt\" which will read in text files. you just need to give it the path to the file!\n",
    "# note that this will actually give you an error. why? because loadtxt doesn't like that there are different \n",
    "# variable types in different columns, i.e. a mix of strings and floats; it wants to assume everything is float.\n",
    "# there are a couple of ways around this\n",
    "stars_table = np.loadtxt('data/BrightStars.dat') \n"
   ]
  },
  {
   "cell_type": "code",
   "execution_count": null,
   "metadata": {
    "collapsed": false
   },
   "outputs": [],
   "source": [
    "# one option is to simply skip the first column, the star names, since these are the string values that are throwing\n",
    "# loadtxt off. for this we use the loadtxt option \"usecols\" where we can feed it a list of column numbers we want to\n",
    "# use. remember that python is zero indexing, so to have it skip the first column we omit the number zero. \n",
    "# just like with the bash \"sort\" command loadtxt sees spaces as separating one column from a new column.\n",
    "stars_table = np.loadtxt('data/BrightStars.dat', usecols=[1,2,3,4,5,6,7,8,9,10,11])\n",
    "\n",
    "# the output of this is an array that contains 11 columns and 5016 lines.\n",
    "type(stars_table), stars_table.shape "
   ]
  },
  {
   "cell_type": "code",
   "execution_count": null,
   "metadata": {
    "collapsed": true
   },
   "outputs": [],
   "source": [
    "# another option is to explicitly tell it all the column types \n",
    "# we will do this with dictionaries and lists! we make the \"dtype\" argument of \n",
    "# loadtxt into a dictionary which has the keys \"names\" and \"formats,\" each of which\n",
    "# have tuples that make up their values.\n",
    "stars_table = np.loadtxt('data/BrightStars.dat', dtype={'names': ('starname', 'ra_hr', 'ra_min', 'ra_s', 'dec_deg', \n",
    "                                                                  'dec_arcmin', 'deg_arcsec', 'Vmag', 'B-V', \n",
    "                                                                  'Parallax', 'uRA', 'uDec'),\n",
    "                                                        'formats': ('|S15', np.float, np.float, np.float, np.float, \n",
    "                                                                    np.float, np.float, np.float,np.float,np.float, \n",
    "                                                                    np.float,np.float)})"
   ]
  },
  {
   "cell_type": "code",
   "execution_count": null,
   "metadata": {
    "collapsed": false
   },
   "outputs": [],
   "source": [
    "# the neat thing about doing this (although it is tedious) is that we get all our columns, and now we can refer\n",
    "# to them by name! \n",
    "stars_table['starname'], stars_table['Vmag']"
   ]
  },
  {
   "cell_type": "code",
   "execution_count": null,
   "metadata": {
    "collapsed": false
   },
   "outputs": [],
   "source": [
    "# let's look at one last simple option. numpy has another built-in function called \"genfromtxt,\" which can more \n",
    "# easily handle different data types. If I set the \"dtype\" argument here to be \"None\" it will try to guess \n",
    "# all the types of the columns. This is pretty powerful! \n",
    "stars_table = np.genfromtxt('data/BrightStars.dat', dtype=None)"
   ]
  },
  {
   "cell_type": "code",
   "execution_count": null,
   "metadata": {
    "collapsed": true
   },
   "outputs": [],
   "source": [
    "# try doing np.genfromtxt? to see all the other arguments that the function genfromtxt can take \n",
    "# find the argument that will help us define column names, and rerun the above command using it. \n",
    "stars_table = np.genfromtxt('data/BrightStars.dat', dtype=None, names=('starname', 'ra_hr', 'ra_min', 'ra_s', 'dec_deg', \n",
    "                                                                  'dec_arcmin', 'deg_arcsec', 'Vmag', 'B-V', \n",
    "                                                                  'Parallax', 'uRA', 'uDec'))"
   ]
  },
  {
   "cell_type": "code",
   "execution_count": null,
   "metadata": {
    "collapsed": false
   },
   "outputs": [],
   "source": [
    "stars_table['Parallax'] / 1000"
   ]
  },
  {
   "cell_type": "code",
   "execution_count": null,
   "metadata": {
    "collapsed": false
   },
   "outputs": [],
   "source": [
    "# now we can work with the contents of this file! let's say we want to find the brightest star.\n",
    "brightest_star_mag = stars_table['Vmag'].min()\n",
    "print(brightest_star_mag)"
   ]
  },
  {
   "cell_type": "code",
   "execution_count": null,
   "metadata": {
    "collapsed": false
   },
   "outputs": [],
   "source": [
    "# how would you find all the stars that have Vmag < 3? we did this in bash with a series of commands, but \n",
    "# np.where makes it much easier! \n",
    "Vlessthan_three = np.where(stars_table['Vmag'] < 3.) # recall that where only gives you the INDICES \n",
    "len(stars_table[Vlessthan_three]) # we can easily find that it is 172 lines, just like we found on our bash homework"
   ]
  },
  {
   "cell_type": "code",
   "execution_count": null,
   "metadata": {
    "collapsed": false
   },
   "outputs": [],
   "source": [
    "# how would you find the parallax of the\n",
    "# most distant star (smallest parallax) with Vmag < 3? hint: half of the work is already done in the previous cell!\n"
   ]
  },
  {
   "cell_type": "code",
   "execution_count": null,
   "metadata": {
    "collapsed": false
   },
   "outputs": [],
   "source": [
    "# to get the name of this star we can do the following:\n",
    "stars_table[np.where((stars_table['Vmag'] < 3) & (stars_table['Parallax'] == 1.01))]['starname']"
   ]
  },
  {
   "cell_type": "code",
   "execution_count": null,
   "metadata": {
    "collapsed": false
   },
   "outputs": [],
   "source": [
    "# if we want to do something like in our first assignment and make a list of the five brightest stars' magnitudes\n",
    "# it is much easier now that we've read in the data! \n",
    "sort_index = np.argsort(stars_table['Vmag']) # this is a built in function of numpy that returns the INDICES that sort an array\n",
    "five_brightest_mag = stars_table['Vmag'][sort_index[:5]]\n",
    "five_brightest_mag"
   ]
  },
  {
   "cell_type": "markdown",
   "metadata": {},
   "source": [
    "## File I/O: Writing Files\n",
    "Now that we have seen how to read in files, let's look at writing output to a different file; this will likely be how you are recording output from programs or simulations that you run. If you write data output to a file you can do data analysis on it later! "
   ]
  },
  {
   "cell_type": "code",
   "execution_count": null,
   "metadata": {
    "collapsed": false
   },
   "outputs": [],
   "source": [
    "# the function that we will be using to write output to a file is numpy's \"savetxt\"\n",
    "# savetxt takes as arguments the filename (in quotes) and then the data (in array form) that you write to that filename\n",
    "# the \"fmt\" argument is option but specifying it allows us to choose the specific data type\n",
    "# in this case we are choosing float values with two decimal places. try it without this to see what you get!\n",
    "np.savetxt('five_brightest_table.dat', five_brightest_mag, fmt='%.2f')"
   ]
  },
  {
   "cell_type": "code",
   "execution_count": null,
   "metadata": {
    "collapsed": false
   },
   "outputs": [],
   "source": [
    "%%bash \n",
    "cat five_brightest_table.dat"
   ]
  },
  {
   "cell_type": "code",
   "execution_count": null,
   "metadata": {
    "collapsed": false
   },
   "outputs": [],
   "source": [
    "# here we have only written one line, but what if we want to write a multi-column file? \n",
    "# let's get the parallax values of the five brightest stars. remember that argsort gave us INDICES. let's reuse them. \n",
    "five_brightest_dist = stars_table['Parallax'][sort_index[:5]]\n",
    "five_brightest_dist"
   ]
  },
  {
   "cell_type": "code",
   "execution_count": null,
   "metadata": {
    "collapsed": false
   },
   "outputs": [],
   "source": [
    "# if we want to save both these arrays, we need to feed both of them to \"savetxt\" in the following way. \n",
    "# when we look at the output of this we'll notice that savetxt defaults to saving arrays as ROWS.\n",
    "np.savetxt('five_brightest_table.dat', (five_brightest_mag,five_brightest_dist), fmt='%.2f')"
   ]
  },
  {
   "cell_type": "code",
   "execution_count": null,
   "metadata": {
    "collapsed": false
   },
   "outputs": [],
   "source": [
    "%%bash \n",
    "cat five_brightest_table.dat"
   ]
  },
  {
   "cell_type": "code",
   "execution_count": null,
   "metadata": {
    "collapsed": false
   },
   "outputs": [],
   "source": [
    "# if we want each array to be a column instead we should use numpy's built-in transpose function\n",
    "# let's look at what transpose does \n",
    "print(five_brightest_mag, five_brightest_dist)\n",
    "print np.transpose([five_brightest_mag,five_brightest_dist])"
   ]
  },
  {
   "cell_type": "code",
   "execution_count": null,
   "metadata": {
    "collapsed": true
   },
   "outputs": [],
   "source": [
    "# to get a two-column data table we do the following: \n",
    "np.savetxt('five_brightest_table.dat', np.transpose([five_brightest_mag, five_brightest_dist]), fmt=['%.2f', '%.2f'])"
   ]
  },
  {
   "cell_type": "code",
   "execution_count": null,
   "metadata": {
    "collapsed": false
   },
   "outputs": [],
   "source": [
    "%%bash \n",
    "cat five_brightest_table.dat"
   ]
  },
  {
   "cell_type": "markdown",
   "metadata": {},
   "source": [
    "## Writing Functions and Modules in Python\n",
    "You have already seen how to use built-in modules (e.g. numpy) in python and the functions that accompany them. Now we will learn how to write our own functions, and in addition our own modules. The modules that we write will be in the form of \".py\" files.\n",
    "\n",
    "## Functions\n",
    "\n",
    "Functions in python are of the following form: \n",
    "```python \n",
    "    def function_name(arg1, arg2,..., kw1=val1, kw2=val2, ...)\n",
    "```\n",
    "\n",
    "Where arg1 and arg2 are \"arguments\" and are required, and kw1 and kw2 are called \"keyword arguments\" and are \n",
    "optional. We will ignore these for now. The names of python functions can be any combination of letters, numbers and underscores as long as they don't start with a number and as long as they are not already the name of a built-in keyword (i.e. print). Let's look at a very simple example of a function:"
   ]
  },
  {
   "cell_type": "code",
   "execution_count": null,
   "metadata": {
    "collapsed": true
   },
   "outputs": [],
   "source": [
    "def add_four(x): # on this first line we name our function \"add\" and designate that it has one required argument, x \n",
    "    return x + 4 # for a function to output values we use this \"return\" statement "
   ]
  },
  {
   "cell_type": "code",
   "execution_count": null,
   "metadata": {
    "collapsed": false
   },
   "outputs": [],
   "source": [
    "# now if i call my function with a value, i should get the output x + 4 \n",
    "add_four(4)"
   ]
  },
  {
   "cell_type": "code",
   "execution_count": null,
   "metadata": {
    "collapsed": true
   },
   "outputs": [],
   "source": [
    "# let's try an example with two arguments \n",
    "def multiply(x,y):\n",
    "    return x*y"
   ]
  },
  {
   "cell_type": "code",
   "execution_count": null,
   "metadata": {
    "collapsed": false
   },
   "outputs": [],
   "source": [
    "# in this case we need to feed multiply two arguments \n",
    "multiply(2,3)"
   ]
  },
  {
   "cell_type": "markdown",
   "metadata": {},
   "source": [
    "An important note: above we have passed integer value arguments to our functions. Simple variable types like int, float, and string are passed by VALUE to a function, while compound types like lists, dicts, tuples, etc are passed by REFERENCE. Let's see a concrete example:"
   ]
  },
  {
   "cell_type": "code",
   "execution_count": null,
   "metadata": {
    "collapsed": false
   },
   "outputs": [],
   "source": [
    "z = 5\n",
    "print add_four(z) # we can pass z by reference to our add function \n",
    "print(z) # but it's value won't be changed globally "
   ]
  },
  {
   "cell_type": "code",
   "execution_count": null,
   "metadata": {
    "collapsed": true
   },
   "outputs": [],
   "source": [
    "def append_element(x):\n",
    "    return x.append(4)"
   ]
  },
  {
   "cell_type": "code",
   "execution_count": null,
   "metadata": {
    "collapsed": false
   },
   "outputs": [],
   "source": [
    "list = [1,2,3]\n",
    "append_element(list) # pass the list by reference to our append_element function\n",
    "print(list) # the values in the list are changed globally "
   ]
  },
  {
   "cell_type": "markdown",
   "metadata": {},
   "source": [
    "## Doc Strings\n",
    "When writing functions it is important to use documentation strings so that you and others know how the function works. Let's quickly look at a simple example of the convention for doing this: "
   ]
  },
  {
   "cell_type": "code",
   "execution_count": null,
   "metadata": {
    "collapsed": true
   },
   "outputs": [],
   "source": [
    "def multiply(x,y):\n",
    "    \"\"\"\n",
    "    Returns the product of x and y \n",
    "    \n",
    "    Parameters\n",
    "    ----------\n",
    "    x, y: int\n",
    "        the values for which the product is calculated \n",
    "        \n",
    "    Returns\n",
    "    -------\n",
    "    result: int\n",
    "        the product of x and y \n",
    "    \"\"\""
   ]
  },
  {
   "cell_type": "code",
   "execution_count": null,
   "metadata": {
    "collapsed": false
   },
   "outputs": [],
   "source": [
    "# now if we do multiply? or help(multiply) we get info from the doc string!\n",
    "multiply?\n",
    "help(multiply)"
   ]
  },
  {
   "cell_type": "markdown",
   "metadata": {},
   "source": [
    "## Modules\n",
    "Modules, as we discussed in the first lecture are organized units of code. They can contain functions, classes (something which we will not cover in this course) and other defined variables. Python treats \".py\" files as modules. We can define multiple functions within particular modules and organize our code in this way. Let's write a very simple module. I will show how to do this in the notebook, but when writing your own modules you should use a text editor like emacs, vim, gedit, etc. "
   ]
  },
  {
   "cell_type": "code",
   "execution_count": null,
   "metadata": {
    "collapsed": false
   },
   "outputs": [],
   "source": [
    "%%file add_subtract.py \n",
    "# simple addition and subtraction module \n",
    "\n",
    "def add_nums(x,y):\n",
    "    return x + y\n",
    "\n",
    "def subtract_nums(x,y):\n",
    "    return x - y\n"
   ]
  },
  {
   "cell_type": "code",
   "execution_count": null,
   "metadata": {
    "collapsed": false
   },
   "outputs": [],
   "source": [
    "# If you recall from the first lecture, we can now import this module and use the \n",
    "# functions that we have defined within it. \n",
    "import add_subtract \n",
    "print add_subtract.add_nums(2,3)\n",
    "print add_subtract.subtract_nums(5,3)"
   ]
  },
  {
   "cell_type": "code",
   "execution_count": null,
   "metadata": {
    "collapsed": false
   },
   "outputs": [],
   "source": [
    "# another way to import this module is as follows:\n",
    "from add_subtract import add_nums\n",
    "add_nums(2,3) # and now we can recall it directly"
   ]
  },
  {
   "cell_type": "markdown",
   "metadata": {},
   "source": [
    "This kind of syntax should look familiar to you! Whenever you do something like \n",
    "```python\n",
    "    import numpy as np \n",
    "    np.savetxt(blahblahblah)\n",
    "```\n",
    "you are calling a module (albeit one that is already written) and using the functions that are within that module. \n",
    "You have been doing this all along so far with built-in modules! The structure is exactly the same now that you are writing your own. Modules have associated functions, and these funtions take specific arguments.\n",
    "\n",
    "```python\n",
    "    import module\n",
    "    module.function(argument)\n",
    "```\n",
    "\n",
    "Let's look at one last more complicated example. In this case I have written a module below that I will then run (as opposed to importing). As an exercise, write down what this program does next to the comment symbol (#) at the beginning of the module. "
   ]
  },
  {
   "cell_type": "code",
   "execution_count": null,
   "metadata": {
    "collapsed": false
   },
   "outputs": [],
   "source": [
    "%%file calculate_distance.py \n",
    "import numpy as np\n",
    "# \n",
    "\n",
    "stars_table = np.genfromtxt('data/BrightStars.dat', dtype=None, names=('starname', 'ra_hr', 'ra_min', 'ra_s', 'dec_deg', \n",
    "                                                                  'dec_arcmin', 'deg_arcsec', 'Vmag', 'B-V', \n",
    "                                                                  'Parallax', 'uRA', 'uDec'))\n",
    "\n",
    "parallax_mas = stars_table['Parallax']\n",
    "parallax_as = stars_table['Parallax'] / 1000.\n",
    "\n",
    "def distance_in_lyr(x):\n",
    "    \"\"\"\n",
    "    Finds distance in lyr given parallax in arcseconds\n",
    "    \n",
    "    Parameters\n",
    "    ----------\n",
    "    x: float\n",
    "        parallax in arcseconds\n",
    "    \n",
    "    Returns\n",
    "    -------\n",
    "    result: float\n",
    "        distance in lyr\n",
    "    \n",
    "    \"\"\"\n",
    "    return (1. / x)*3.26\n",
    "\n",
    "all_distances_lyr = distance_in_lyr(parallax_as)\n",
    "np.savetxt('distance_parallax.dat', np.transpose([parallax_as, all_distances_lyr]), fmt=['%.2e', '%.2f'])\n"
   ]
  },
  {
   "cell_type": "markdown",
   "metadata": {},
   "source": [
    "Now that I've written this module, we want to run it. In IPython you can simply do \"run module.py\" and the module will run. In this case, the calculate_distance module should write a file called \"distance_parallax.dat,\" so with the bash\n",
    "command below I can check to see if a) this file exists and b) it contains the correct contents given my module. "
   ]
  },
  {
   "cell_type": "code",
   "execution_count": null,
   "metadata": {
    "collapsed": false
   },
   "outputs": [],
   "source": [
    "%run calculate_distance.py"
   ]
  },
  {
   "cell_type": "code",
   "execution_count": null,
   "metadata": {
    "collapsed": true
   },
   "outputs": [],
   "source": [
    "%%bash \n",
    "cat distance_parallax.dat"
   ]
  },
  {
   "cell_type": "code",
   "execution_count": null,
   "metadata": {
    "collapsed": true
   },
   "outputs": [],
   "source": []
  }
 ],
 "metadata": {
  "kernelspec": {
   "display_name": "Python 2",
   "language": "python",
   "name": "python2"
  },
  "language_info": {
   "codemirror_mode": {
    "name": "ipython",
    "version": 2
   },
   "file_extension": ".py",
   "mimetype": "text/x-python",
   "name": "python",
   "nbconvert_exporter": "python",
   "pygments_lexer": "ipython2",
   "version": "2.7.10"
  }
 },
 "nbformat": 4,
 "nbformat_minor": 0
}
