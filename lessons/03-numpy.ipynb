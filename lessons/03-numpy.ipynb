{
 "cells": [
  {
   "cell_type": "markdown",
   "metadata": {},
   "source": [
    "# Python packages\n",
    "\n",
    "\n",
    "We do specialized tasks in Python with _packages_. A package is a collection of Python functions that someone wrote and bundled together for you to use. Some of the Python packages that we'll learn to use include: \n",
    "\n",
    "| Package | Uses                     |\n",
    "|---------|--------------------------|\n",
    "| `numpy` | Math with arrays (more on this below) | \n",
    "| `scipy` | A math toolkit built for use by scientists | \n",
    "| `matplotlib` | Visualization (plotting!) | \n",
    "| `astropy` | Astronomy-specific functions of all kinds | \n",
    "\n",
    "## Numpy\n",
    "\n",
    "Numpy is the most important package that we're going to teach you about, because it allows you to do calculations very quickly with Python. Below, we'll discover why it's useful.\n",
    "\n",
    "*** \n",
    "\n",
    "Let's say you want to take the $\\sin$ or $\\cos$ of an angle. There are numpy function that do this for you. \n",
    "\n",
    "To gain access to numpy's functions, you always need to do this command first: \n",
    "```python\n",
    "import numpy as np\n",
    "```\n",
    "Run the line above in the cell below: "
   ]
  },
  {
   "cell_type": "code",
   "execution_count": 1,
   "metadata": {
    "collapsed": true
   },
   "outputs": [],
   "source": [
    "import numpy as np"
   ]
  },
  {
   "cell_type": "markdown",
   "metadata": {},
   "source": [
    "Now there's a variable called `np` that we can access anywhere in this notebook. There are _functions_ for $\\sin$ and $\\cos$ that live within numpy. The way to access a function within a package is by calling the function name with a period after it, then the name of the function you want. So for $\\sin$, you can do: \n",
    "```python\n",
    "np.sin(0)\n",
    "```\n",
    "The `np.` part says \"give me this function from numpy\". The `sin()` part says \"the function that I want to use is $\\sin$\", and the `0` is the angle that we want to take the $\\sin$ of, in units of radians. Run that line in the cell below, and experiment with different angles. Try `np.cos` too."
   ]
  },
  {
   "cell_type": "code",
   "execution_count": 2,
   "metadata": {
    "collapsed": false
   },
   "outputs": [
    {
     "name": "stdout",
     "output_type": "stream",
     "text": [
      "0.0\n"
     ]
    }
   ],
   "source": [
    "print(np.sin(0))"
   ]
  },
  {
   "cell_type": "markdown",
   "metadata": {},
   "source": [
    "Numpy also has some built-in numbers that you might use. For example, $\\pi$ is stored (to high precision!), in `np.pi`. Print out numpy's $\\pi$ in the cell below: "
   ]
  },
  {
   "cell_type": "code",
   "execution_count": 19,
   "metadata": {
    "collapsed": false
   },
   "outputs": [
    {
     "data": {
      "text/plain": [
       "3.141592653589793"
      ]
     },
     "execution_count": 19,
     "metadata": {},
     "output_type": "execute_result"
    }
   ],
   "source": [
    "np.pi"
   ]
  },
  {
   "cell_type": "markdown",
   "metadata": {},
   "source": [
    "Now lets say you had a list of angles, like `angles`$= [0, \\pi/2, \\pi, 3\\pi/2, 2\\pi]$. You could call `np.sin(angles[0])` to get the $\\sin$ of the first angle, then `np.sin(angles[1])` on the second angle, etc. But that would be a really slow way to do it! \n",
    "\n",
    "### Arrays\n",
    "\n",
    "The quick way is to create a _numpy array_. A numpy array is a vector or matrix of numbers which numpy can act on more efficiently than Python can with ordinary lists.\n",
    "\n",
    "Let's make a numpy array filled with the angles above:\n",
    "```python\n",
    "# First, here's the list that we want to have an array of: \n",
    "angle_list = [0, 1/2 * np.pi, np.pi, 3/2 * np.pi, 2 * np.pi]\n",
    "\n",
    "# Here's how we make a numpy array out of the list\n",
    "angle_array = np.array(angle_list)\n",
    "```\n",
    "Write out those lines in the cell below. \n",
    "\n",
    "Let's break down the command `np.array(angle_list)`. The `np.` says we're going to use a function from numpy, the `array()` says we're going to make an array out of the thing in the parentheses, and the `angle_list` is the _input_ or the _argument_ of the function. \n",
    "\n",
    "Now you can do things with the numpy array that you couldn't do with a Python list. Here are some of them, which you should experiment with in the cell below: \n",
    "```python\n",
    "# Sum of all elements in the array:\n",
    "angle_array.sum()\n",
    "\n",
    "# Mean of all elements in the array:\n",
    "angle_array.mean()\n",
    "\n",
    "# Maximum of the elements in the array:\n",
    "angle_array.max()\n",
    "\n",
    "# Minimum of the elements in the array: \n",
    "angle_array.min()\n",
    "```"
   ]
  },
  {
   "cell_type": "code",
   "execution_count": 20,
   "metadata": {
    "collapsed": false
   },
   "outputs": [
    {
     "name": "stdout",
     "output_type": "stream",
     "text": [
      "15.7079632679\n"
     ]
    }
   ],
   "source": [
    "angle_list = [0, 1/2 * np.pi, np.pi, 3/2 * np.pi, 2 * np.pi]\n",
    "angle_array = np.array(angle_list)\n",
    "\n",
    "print(angle_array.sum())"
   ]
  },
  {
   "cell_type": "markdown",
   "metadata": {},
   "source": [
    "### Example 1: Calculations with arrays\n",
    "\n",
    "What is the $\\sin$ and $\\cos$ of each angle? Use the numpy array `angle_array` as the argument to the `np.sin` and `np.cos` functions in the cell below:"
   ]
  },
  {
   "cell_type": "code",
   "execution_count": 22,
   "metadata": {
    "collapsed": false
   },
   "outputs": [
    {
     "name": "stdout",
     "output_type": "stream",
     "text": [
      "[  0.00000000e+00   1.00000000e+00   1.22464680e-16  -1.00000000e+00\n",
      "  -2.44929360e-16]\n",
      "[  1.00000000e+00   6.12323400e-17  -1.00000000e+00  -1.83697020e-16\n",
      "   1.00000000e+00]\n"
     ]
    }
   ],
   "source": [
    "print(np.sin(angle_array))\n",
    "print(np.cos(angle_array))"
   ]
  },
  {
   "cell_type": "markdown",
   "metadata": {},
   "source": [
    "Now you might be saying - wait a minute, $\\sin(3\\pi/2) = 0$, not $\\approx$`1e-16`, what's that about? The short answer is - computers often get very very close to approximating the numbers that we actually want, but not all of the way there. You can get better precision if you tell the computer to use more memory, which we can talk about after class if you like. \n",
    "\n",
    "***\n",
    "\n",
    "## Array arithmetic\n",
    "\n",
    "There are lots of situations where you'll want to create a certain kind of array, and numpy has functions to help. \n",
    "\n",
    "You can make an array of consecutive integers from zero to nine with the function `np.arange`:\n",
    "```python\n",
    "consecutive_integers = np.arange(10)\n",
    "```\n",
    "If there's one number in the parentheses, it tells `np.arange` what number to stop at (exclusive). If there are three numbers, they signify `np.arange(start, stop, step)`. For example, `np.arange(1, 9, 2)` would start at 1, stop before 9, with a step size of 2, so it would return `[1, 3, 5, 7]`.\n",
    "\n",
    "In the cell below, make an array with 10,000 sequential integers, starting with the zero. Save the array into a variable called `consecutive_integers`, and print it out:"
   ]
  },
  {
   "cell_type": "code",
   "execution_count": 12,
   "metadata": {
    "collapsed": false
   },
   "outputs": [
    {
     "name": "stdout",
     "output_type": "stream",
     "text": [
      "[   0    1    2 ..., 9997 9998 9999]\n"
     ]
    }
   ],
   "source": [
    "consecutive_integers = np.arange(10000)\n",
    "print(consecutive_integers)"
   ]
  },
  {
   "cell_type": "markdown",
   "metadata": {},
   "source": [
    "You'll see that numpy is polite. It knows you probably don't want to see all ten thousand integers, so it prints just the beginning and end of the array. \n",
    "\n",
    "### Exercise 2: Indexing/slicing numpy arrays\n",
    "The same indexing and slicing rules that we learned for lists work on arrays. In the cell below, print the 42nd element of the `consecutive_integers` array, and print the 101-103rd (inclusive) elements of the array:"
   ]
  },
  {
   "cell_type": "code",
   "execution_count": 14,
   "metadata": {
    "collapsed": false
   },
   "outputs": [
    {
     "name": "stdout",
     "output_type": "stream",
     "text": [
      "42\n",
      "[101 102 103]\n"
     ]
    }
   ],
   "source": [
    "print(consecutive_integers[42])\n",
    "print(consecutive_integers[101:104])"
   ]
  },
  {
   "cell_type": "markdown",
   "metadata": {},
   "source": [
    "Unlike lists, you can do arithmetic with numpy arrays. For example, if you had the following list: \n",
    "```python\n",
    "heights = [162, 185, 174, 191]\n",
    "```\n",
    "and you tried to add one to the list, this is what you would get: \n",
    "```python\n",
    "print(heights + 1)\n",
    "```\n",
    "```\n",
    "---------------------------------------------------------------------------\n",
    "TypeError                                 Traceback (most recent call last)\n",
    "<ipython-input-23-ca23c21090bd> in <module>()\n",
    "      1 heights = [162, 185, 174, 191]\n",
    "----> 2 print(heights + 1)\n",
    "\n",
    "TypeError: can only concatenate list (not \"int\") to list\n",
    "```\n",
    "However, this does work if `heights` is a numpy array. \n",
    "\n",
    "### Exercise 3: Array arithmetic\n",
    "\n",
    "In the cell below: \n",
    "1. Create a variable called `heights_array`, which contains a numpy array of `heights` (using the `np.array` function we learned above)\n",
    "2. Try adding, multiplying, subtracting, dividing, exponentiating the array"
   ]
  },
  {
   "cell_type": "code",
   "execution_count": 24,
   "metadata": {
    "collapsed": false
   },
   "outputs": [
    {
     "name": "stdout",
     "output_type": "stream",
     "text": [
      "[163 186 175 192]\n"
     ]
    }
   ],
   "source": [
    "heights = [162, 185, 174, 191]\n",
    "heights_array = np.array(heights)\n",
    "\n",
    "print(heights_array + 1)"
   ]
  },
  {
   "cell_type": "markdown",
   "metadata": {},
   "source": [
    "### Exercise 4: Inequalities\n",
    "You can also evaluate inequalities with whole arrays at once. Find which values of the array above are greater than 180: "
   ]
  },
  {
   "cell_type": "code",
   "execution_count": 26,
   "metadata": {
    "collapsed": false
   },
   "outputs": [
    {
     "data": {
      "text/plain": [
       "array([False,  True, False,  True], dtype=bool)"
      ]
     },
     "execution_count": 26,
     "metadata": {},
     "output_type": "execute_result"
    }
   ],
   "source": [
    "heights_array > 180"
   ]
  },
  {
   "cell_type": "markdown",
   "metadata": {},
   "source": [
    "Notice - numpy arrays don't have to contain numbers (floats and integers). They can be booleans, and other things too!"
   ]
  },
  {
   "cell_type": "markdown",
   "metadata": {},
   "source": [
    "### Exercise 5: Fancy indexing \n",
    "\n",
    "We now want to print only the heights in the array that are greater than 180. Given what you know so far, print the heights greater than 180, by accessing them with their indices, i.e. something like \n",
    "\n",
    "```python\n",
    "print(heights_array[<put something in here>])\n",
    "```"
   ]
  },
  {
   "cell_type": "code",
   "execution_count": 27,
   "metadata": {
    "collapsed": false
   },
   "outputs": [
    {
     "name": "stdout",
     "output_type": "stream",
     "text": [
      "185 191\n"
     ]
    }
   ],
   "source": [
    "print(heights_array[1], heights[3])"
   ]
  },
  {
   "cell_type": "markdown",
   "metadata": {},
   "source": [
    "In Exercise 4, you found that you can figure out which numbers in the array were greater than 180 all at once. It turns out, if you save that array of booleans: \n",
    "\n",
    "```python\n",
    "heights_gt_180 = heights_array > 180\n",
    "```\n",
    "\n",
    "You can use `heights_gt_180` like a group of indices on `heights_array` to get just the heights where `heights_gt_180 == True`. \n",
    "\n",
    "In the cell below, try:\n",
    "```python\n",
    "heights_gt_180 = heights_array > 180\n",
    "print(heights_array[heights_gt_180])\n",
    "```\n",
    "Did it print out the right indices? What if you flip the greater than to a less than? What if you try `==` instead?"
   ]
  },
  {
   "cell_type": "code",
   "execution_count": 29,
   "metadata": {
    "collapsed": false
   },
   "outputs": [
    {
     "name": "stdout",
     "output_type": "stream",
     "text": [
      "[185 191]\n"
     ]
    }
   ],
   "source": [
    "heights_gt_180 = heights_array > 180\n",
    "print(heights_array[heights_gt_180])"
   ]
  },
  {
   "cell_type": "markdown",
   "metadata": {},
   "source": [
    "## Putting it all together\n",
    "\n",
    "Using all of these skills together, let's do something that we couldn't do easily with a scientific calculator. Let's find sum of all of the positive, even numbers less than 10,000.\n",
    "\n",
    "We'll do that in a few steps below: "
   ]
  },
  {
   "cell_type": "code",
   "execution_count": 44,
   "metadata": {
    "collapsed": false
   },
   "outputs": [
    {
     "name": "stdout",
     "output_type": "stream",
     "text": [
      "[0 1 0 ..., 1 0 1]\n"
     ]
    }
   ],
   "source": [
    "# We'll use np.arange to make a list of all numbers between 0 and 10,000\n",
    "numbers_lt_10000 = np.arange(10000)\n",
    "\n",
    "# Now we'll find out which of those numbers are even by figuring out\n",
    "# which ones have a remainder of zero when you divide them by two\n",
    "remainders = numbers_lt_10000 % 2\n",
    "print(remainders)"
   ]
  },
  {
   "cell_type": "code",
   "execution_count": 45,
   "metadata": {
    "collapsed": false
   },
   "outputs": [
    {
     "name": "stdout",
     "output_type": "stream",
     "text": [
      "[ True False  True ..., False  True False]\n"
     ]
    }
   ],
   "source": [
    "# The even numbers are the ones where the remainders are equal to zero: \n",
    "where_even = (remainders == 0)\n",
    "\n",
    "print(where_even)"
   ]
  },
  {
   "cell_type": "code",
   "execution_count": 46,
   "metadata": {
    "collapsed": false
   },
   "outputs": [
    {
     "name": "stdout",
     "output_type": "stream",
     "text": [
      "[   0    2    4 ..., 9994 9996 9998]\n"
     ]
    }
   ],
   "source": [
    "# Now if we use where_even to index numbers_lt_10000, \n",
    "# we'll get an array of just the even numbers: \n",
    "numbers_even = numbers_lt_10000[where_even]\n",
    "\n",
    "print(numbers_even)"
   ]
  },
  {
   "cell_type": "code",
   "execution_count": 47,
   "metadata": {
    "collapsed": false
   },
   "outputs": [
    {
     "name": "stdout",
     "output_type": "stream",
     "text": [
      "24995000\n"
     ]
    }
   ],
   "source": [
    "# Now let's use the sum function to sum up the array above: \n",
    "print(numbers_even.sum())"
   ]
  },
  {
   "cell_type": "markdown",
   "metadata": {},
   "source": [
    "***\n",
    "\n",
    "### Exercise 6\n",
    "\n",
    "Using the above steps as a template, figure out the sum of the **odd** numbers less than **100,000**:"
   ]
  },
  {
   "cell_type": "code",
   "execution_count": 48,
   "metadata": {
    "collapsed": false
   },
   "outputs": [
    {
     "name": "stdout",
     "output_type": "stream",
     "text": [
      "2500000000\n"
     ]
    }
   ],
   "source": [
    "# We'll use np.arange to make a list of all numbers between 0 and 100,000\n",
    "numbers_lt_100000 = np.arange(100000)\n",
    "\n",
    "# Now we'll find out which of those numbers are even by figuring out\n",
    "# which ones have a remainder of *one* when you divide them by two\n",
    "remainders = numbers_lt_100000 % 2\n",
    "\n",
    "# The odd numbers are the ones where the remainders are equal to one: \n",
    "where_odd = (remainders == 1)\n",
    "\n",
    "# Now if we use where_even to index numbers_lt_100000, \n",
    "# we'll get an array of just the odd numbers: \n",
    "numbers_odd = numbers_lt_100000[where_odd]\n",
    "\n",
    "# Now let's use the sum function to sum up the array above: \n",
    "print(numbers_odd.sum())"
   ]
  },
  {
   "cell_type": "code",
   "execution_count": null,
   "metadata": {
    "collapsed": true
   },
   "outputs": [],
   "source": []
  }
 ],
 "metadata": {
  "kernelspec": {
   "display_name": "Python 3",
   "language": "python",
   "name": "python3"
  },
  "language_info": {
   "codemirror_mode": {
    "name": "ipython",
    "version": 3
   },
   "file_extension": ".py",
   "mimetype": "text/x-python",
   "name": "python",
   "nbconvert_exporter": "python",
   "pygments_lexer": "ipython3",
   "version": "3.5.2"
  }
 },
 "nbformat": 4,
 "nbformat_minor": 0
}
