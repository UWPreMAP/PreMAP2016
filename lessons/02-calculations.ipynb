{
 "cells": [
  {
   "cell_type": "markdown",
   "metadata": {},
   "source": [
    "[Class website]() | [Pre-MAP GitHub](https://github.com/UWPreMAP/PreMAP2016) | [Google](https://www.google.com)\n",
    "\n",
    "# Python as a calculator\n",
    "\n",
    "Math in Python works like most scientific calcators, but Python can do a lot more than your calculator. In this lesson, we'll do some math. \n",
    "\n",
    "### Example 1: Math in a cell\n",
    "\n",
    "You can type some basic math in a cell, execute the cell (`Ctrl + Enter`), and math will be returned below the cell. This works whether or not you put the math in a `print` command. Try `2+2` in the cell below:"
   ]
  },
  {
   "cell_type": "code",
   "execution_count": 1,
   "metadata": {
    "collapsed": false
   },
   "outputs": [
    {
     "data": {
      "text/plain": [
       "4"
      ]
     },
     "execution_count": 1,
     "metadata": {},
     "output_type": "execute_result"
    }
   ],
   "source": [
    "2 + 2"
   ]
  },
  {
   "cell_type": "markdown",
   "metadata": {},
   "source": [
    "The symbol for multiplication is `*`. Do `2 * 2` below: "
   ]
  },
  {
   "cell_type": "code",
   "execution_count": 2,
   "metadata": {
    "collapsed": false
   },
   "outputs": [
    {
     "data": {
      "text/plain": [
       "4"
      ]
     },
     "execution_count": 2,
     "metadata": {},
     "output_type": "execute_result"
    }
   ],
   "source": [
    "2 * 2 "
   ]
  },
  {
   "cell_type": "markdown",
   "metadata": {},
   "source": [
    "The numbers we've used so far are all integers, or `int`'s. Python can store numbers as `int`s or `float`s. A float is a decimal number. You can check what _type_ a number is by using the `type` function: \n",
    "\n",
    "```python\n",
    "type(5)\n",
    "```\n",
    "\n",
    "### Example 2: Types\n",
    "\n",
    "Print the types of the following things: \n",
    "* `1`\n",
    "* `1.0`\n",
    "* `\"hello, world\"`"
   ]
  },
  {
   "cell_type": "code",
   "execution_count": 7,
   "metadata": {
    "collapsed": false
   },
   "outputs": [
    {
     "name": "stdout",
     "output_type": "stream",
     "text": [
      "<class 'int'>\n",
      "<class 'float'>\n",
      "<class 'str'>\n"
     ]
    }
   ],
   "source": [
    "print( type(1) )\n",
    "print( type(1.0) )\n",
    "print( type(\"hello, world\") )"
   ]
  },
  {
   "cell_type": "markdown",
   "metadata": {},
   "source": [
    "*** \n",
    "\n",
    "Types can fool you sometimes when you're dividing two numbers. If you divide with one division sign (`/`) you will get a `float` result, which is the way Python represents decimals. If you divide with two division signs (`//`) you will always get an integer result. \n",
    "\n",
    "### Example 2: Integer vs. float division\n",
    "\n",
    "Try dividing three by five using `/`, and then with `//`. What's the difference? What is the `type` of each result? "
   ]
  },
  {
   "cell_type": "code",
   "execution_count": 8,
   "metadata": {
    "collapsed": false
   },
   "outputs": [
    {
     "name": "stdout",
     "output_type": "stream",
     "text": [
      "0.6 <class 'float'>\n",
      "0 <class 'int'>\n"
     ]
    }
   ],
   "source": [
    "print(3 / 5, type(3 / 5))\n",
    "print(3 // 5, type(3 // 5))"
   ]
  },
  {
   "cell_type": "markdown",
   "metadata": {
    "collapsed": true
   },
   "source": [
    "Exponentiation uses two asterisks `**` (_not_ the caret symbol `^`), like this: \n",
    "\n",
    "```python\n",
    "print(2**2)\n",
    "```\n",
    "\n",
    "### Example 3: How many ancestors do you have?\n",
    "\n",
    "The number of great-great-great... grandparents you have goes as $2^n$ where $n$ is the number of generations back you go. For example, one generation ago $n=1$, you had $2^1 = 2$ ancestors - or two parents. Two generations ago, you had $2^2 = 4$ ancestors - or four grandparents. \n",
    "\n",
    "Use Python to answer: how many ancestors did you have thirty generations ago?"
   ]
  },
  {
   "cell_type": "code",
   "execution_count": 13,
   "metadata": {
    "collapsed": false
   },
   "outputs": [
    {
     "data": {
      "text/plain": [
       "1073741824"
      ]
     },
     "execution_count": 13,
     "metadata": {},
     "output_type": "execute_result"
    }
   ],
   "source": [
    "n = 30\n",
    "2**n"
   ]
  },
  {
   "cell_type": "markdown",
   "metadata": {},
   "source": [
    "If that number sounds way larger than the number of people that were probably on Earth thirty generations ago, that's because it _is_. How is that possible? You can [read up more about this after class by following this link](pedigree collapse royalty).\n",
    "\n",
    "*** \n",
    "\n",
    "You can also use Python to compute inequalities. The _operators_ used in inequalities are: \n",
    "\n",
    "| Inequality               | Symbol| \n",
    "|--------------------------|-------|\n",
    "| Equal to                 | `==`  |\n",
    "| Greater than             | `>`   |\n",
    "| Greater than or equal to | `>=`  | \n",
    "| Less than                | `<`   | \n",
    "| Less than or equal to    | `<=`  |\n",
    "\n",
    "**Note**: you can check if something is equal to something else with the double equals `==`. You can't use single equals, because that's how you define a variable. So this sets the variable `x` to the value `5`: \n",
    "```python\n",
    "x = 5\n",
    "```\n",
    "while this asks if `x` is equal to 5: \n",
    "```python\n",
    "x == 5\n",
    "```\n",
    "\n",
    "### Example 4: Inequalities, booleans\n",
    "\n",
    "What is returned when you evaluate an inequality like `3 >= 5`? What is the type of this object?"
   ]
  },
  {
   "cell_type": "code",
   "execution_count": 12,
   "metadata": {
    "collapsed": false
   },
   "outputs": [
    {
     "name": "stdout",
     "output_type": "stream",
     "text": [
      "False\n",
      "<class 'bool'>\n"
     ]
    }
   ],
   "source": [
    "print(3 >= 5)\n",
    "print(type(3 >= 5))"
   ]
  },
  {
   "cell_type": "markdown",
   "metadata": {},
   "source": [
    "*** \n",
    "\n",
    "## Comments \n",
    "\n",
    "So far we've been writing only a few lines of code at a time in each cell, but soon you'll be writing lots of lines. The more code you write, the harder it can be to remember what each step was. That's why we write lots of _comments_ in our code. \n",
    "\n",
    "A comment is a note you wrote in code, which Python doesn't do anything with. It's just text for human readers. You designate a comment with a `#` symbol - anything after the `#` gets ignored by Python. For example: \n",
    "\n",
    "```python\n",
    "# Here, I'm going to calculate the force on a 10kg block: \n",
    "mass = 10  # kilograms\n",
    "acceleration = 5  # meters per sec^2\n",
    "force = mass * acceleration  # I <3 Newton\n",
    "print(force)\n",
    "```\n",
    "\n",
    "### Example 5: Comments welcome\n",
    "\n",
    "If the price of the computer you're working on was $1000 and the sales tax in Seattle is 9.6%, how much did it cost after tax? \n",
    "\n",
    "Do this calculation by creating variables for the tax rate, the price of the computer before tax, and the final price, and leave comments throughout explaining the units and the calculation that you're doing. See the example above for hints."
   ]
  },
  {
   "cell_type": "code",
   "execution_count": 17,
   "metadata": {
    "collapsed": false
   },
   "outputs": [
    {
     "name": "stdout",
     "output_type": "stream",
     "text": [
      "$ 10600.0\n"
     ]
    }
   ],
   "source": [
    "computer_price = 1000.00  # dollars\n",
    "tax_rate = 9.6  # dollars\n",
    "\n",
    "# The price after tax is the original price times (100% + tax rate)\n",
    "price_after_tax = computer_price * (1 + tax_rate)\n",
    "\n",
    "# Print the result:\n",
    "print(\"$\", price_after_tax)"
   ]
  },
  {
   "cell_type": "markdown",
   "metadata": {},
   "source": [
    "*** \n",
    "\n",
    "In Python, you have to be careful about putting spaces or tabs in front of a line. We call spaces and/or tabs collectively _whitespace_. \n",
    "\n",
    "You can put as many spaces as you want in a line (though one at a time is the right number to use most of the time), like this:\n",
    "```python\n",
    "this_is_ok = 2 + 2\n",
    "this_is_bad_but_it_works = 2   +  2+2\n",
    "```\n",
    "\n",
    "However you can't put stray spaces in the beginning of a line. For example, if you do this: \n",
    "\n",
    "```python\n",
    "starts_no_indent = 0\n",
    "  starts_with_an_indent = 5\n",
    "```\n",
    "...an error will be raised.\n",
    "\n",
    "### Example 6: Significant whitespace\n",
    "\n",
    "Try the above example or one like it, and note the type of error that it raises:"
   ]
  },
  {
   "cell_type": "code",
   "execution_count": 19,
   "metadata": {
    "collapsed": false
   },
   "outputs": [
    {
     "ename": "IndentationError",
     "evalue": "unexpected indent (<ipython-input-19-920ee328c1c1>, line 2)",
     "output_type": "error",
     "traceback": [
      "\u001b[0;36m  File \u001b[0;32m\"<ipython-input-19-920ee328c1c1>\"\u001b[0;36m, line \u001b[0;32m2\u001b[0m\n\u001b[0;31m    starts_with_an_indent = 5\u001b[0m\n\u001b[0m    ^\u001b[0m\n\u001b[0;31mIndentationError\u001b[0m\u001b[0;31m:\u001b[0m unexpected indent\n"
     ]
    }
   ],
   "source": [
    "starts_no_indent = 0\n",
    "  starts_with_an_indent = 5"
   ]
  },
  {
   "cell_type": "markdown",
   "metadata": {},
   "source": [
    "It will become clear later why this isn't allowed - indentation is used to represent specific things."
   ]
  },
  {
   "cell_type": "markdown",
   "metadata": {},
   "source": [
    "*** \n",
    "\n",
    "## Style\n",
    " \n",
    "When you start your research project, you'll write code that you'll use for the rest of the quarter. If you can't read your own code, then you'll have difficulty understanding what you did at the end of the quarter. Readability is really important for making your work understandable and reproducible. Just like you wouldn't turn in your scratch paper version of your math homework, you shouldn't allow yourself to write illegible code.\n",
    "\n",
    "### Example 7: Variable names\n",
    "\n",
    "As scientists, we share our work with one another and review each other's answers. **Ask your neighbor to look at your solution to Example 5**. Ask your neighbor: \n",
    "\n",
    "* Can you figure out what I was trying to accomplish with my code?\n",
    "* Do my variable names make sense to you?\n",
    "* Did I use appropriate whitespace to make the code easy to read?\n",
    "* Did I write enough comments to guide you through what I was doing? \n",
    "\n",
    "If you think you can improve your code in Example 5? If so, get to it!"
   ]
  },
  {
   "cell_type": "code",
   "execution_count": null,
   "metadata": {
    "collapsed": true
   },
   "outputs": [],
   "source": []
  }
 ],
 "metadata": {
  "kernelspec": {
   "display_name": "Python 3",
   "language": "python",
   "name": "python3"
  },
  "language_info": {
   "codemirror_mode": {
    "name": "ipython",
    "version": 3
   },
   "file_extension": ".py",
   "mimetype": "text/x-python",
   "name": "python",
   "nbconvert_exporter": "python",
   "pygments_lexer": "ipython3",
   "version": "3.5.2"
  }
 },
 "nbformat": 4,
 "nbformat_minor": 0
}
