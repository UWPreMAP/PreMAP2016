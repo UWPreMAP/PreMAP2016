{
 "cells": [
  {
   "cell_type": "markdown",
   "metadata": {
    "collapsed": true
   },
   "source": [
    "[Pre-MAP Course Website](http://depts.washington.edu/premap/seminar/seminar-cohort-12/) | [Pre-MAP GitHub](https://github.com/UWPreMAP/PreMAP2016) | [Google](https://www.google.com)\n",
    "\n",
    "## Writing Functions and Modules in Python\n",
    "\n",
    "You have already seen how to use built-in modules (e.g. numpy) in python and the functions that accompany them. Now we will learn how to write our own functions.\n",
    "\n",
    "## Functions\n",
    "\n",
    "Functions in python are of the following form: \n",
    "```python \n",
    "def function_name(argument_1, argument_2,..., keyword_argument_1=val1, keyword_argument_2=val2, ...)\n",
    "```\n",
    "\n",
    "Where `argument_1` and `argument_2` are \"arguments\" and are required, and `keyword_argument_1` and `keyword_argument_2` are called \"keyword arguments\" and are optional. The names of python functions can be any combination of lowercase letters, numbers and underscores as long as they don't start with a number, and as long as they are not already the name of a built-in keyword (i.e. `print`). Let's look at a very simple example of a function:\n",
    "\n",
    "### First example: the `add` function\n",
    "\n",
    "Let's start with a simple function: \n",
    "```python\n",
    "def add(x, y):\n",
    "    \"\"\"This function adds x to y.\"\"\"\n",
    "    return x + y\n",
    "```\n",
    "This function adds the argument `x` to the argument `y`. You indicate that you're _defining_ a function with the `def` statement, then comes the name of the function, then (no spaces here) comes parentheses containing the arguments.\n",
    "\n",
    "The arguments `x` and `y` are symbols -- a user could call the function on variables that they define, which need not be called `x` and `y`. Here, they just define that within the function, you will refer to the first argument as `x` and the second as `y`.\n",
    "\n",
    "The `return` line needs to be indented with respect to the `def` line. Next to the word `return`, you write the result that you want the function to output.\n",
    "\n",
    "The line in triple-quotes is called a _docstring_. It is documentation, or user instructions. Most Python functions contain information in the docstring that will help you figure out how to use the function.\n",
    "\n",
    "We can now _call_ this function like so:\n",
    "```python\n",
    "def add(x, y):\n",
    "    \"\"\"This function adds x to y.\"\"\"\n",
    "    return x + y\n",
    "\n",
    "a = 5\n",
    "b = 10\n",
    "\n",
    "a_plus_b = add(a, b)\n",
    "\n",
    "print(a_plus_b)\n",
    "```\n",
    "\n",
    "_Note_ that the variables that are defined within a function (`x` and `y` in this example), cannot be accessed outside of the function. If you try to print `x` at the bottom of the code above, you'll see: \n",
    "```\n",
    "NameError: name 'x' is not defined\n",
    "```\n",
    "because the variable name `x` only exists within the function. This concept is called _scope_.\n",
    "\n",
    "### Exercise 1\n",
    "\n",
    "In the cell below, copy and paste the recipe above for addition. Modify it to multiply two numbers together, and don't forget to change the function name and docstring accordingly."
   ]
  },
  {
   "cell_type": "code",
   "execution_count": 19,
   "metadata": {
    "collapsed": false
   },
   "outputs": [
    {
     "name": "stdout",
     "output_type": "stream",
     "text": [
      "50\n"
     ]
    }
   ],
   "source": [
    "def multipy(x, y):\n",
    "    \"\"\"This function multiplies x to y.\"\"\"\n",
    "    return x * y\n",
    "\n",
    "a = 5\n",
    "b = 10\n",
    "\n",
    "a_times_b = multipy(a, b)\n",
    "\n",
    "print(a_times_b)"
   ]
  },
  {
   "cell_type": "markdown",
   "metadata": {},
   "source": [
    "That example is just for demonstration purposes, of course. But there are times when you want to do something more complicated. Let's now make a function that does something more complicated - one that takes a list of numbers as its argument, and returns a list of only the even numbers. \n",
    "\n",
    "```python\n",
    "def only_evens(list_of_numbers):\n",
    "    \"\"\"Take a list of numbers, and return a list of only the even numbers\"\"\"\n",
    "    \n",
    "    # This is an empty list that we'll append the even numbers onto\n",
    "    even_numbers = []\n",
    "    \n",
    "    # Go through each number in the list of numbers\n",
    "    for number in list_of_numbers:\n",
    "    \n",
    "        # If this number is an even number:\n",
    "        if number % 2 == 0:\n",
    "            \n",
    "            # Append it to the list of even numbers\n",
    "            even_numbers.append(number)\n",
    "            \n",
    "    # Then return the number\n",
    "    return even_numbers\n",
    "```\n",
    "\n",
    "### Exercise 2\n",
    "\n",
    "Copy and paste the `only_evens` function above into the cell below, and try it out using a list of numbers that you can create however you like (make it up!). Test that the function works. Turn to your neighbor and practice explaining how the function works to one another. Group work is encouraged!"
   ]
  },
  {
   "cell_type": "code",
   "execution_count": 20,
   "metadata": {
    "collapsed": false
   },
   "outputs": [
    {
     "name": "stdout",
     "output_type": "stream",
     "text": [
      "[0, 2, 8]\n"
     ]
    }
   ],
   "source": [
    "def only_evens(list_of_numbers):\n",
    "    \"\"\"Take a list of numbers, and return a list of only the even numbers\"\"\"\n",
    "\n",
    "    # This is an empty list that we'll append the even numbers onto\n",
    "    even_numbers = []\n",
    "\n",
    "    # Go through each number in the list of numbers\n",
    "    for number in list_of_numbers:\n",
    "\n",
    "        # If this number is an even number:\n",
    "        if number % 2 == 0:\n",
    "\n",
    "            # Append it to the list of even numbers\n",
    "            even_numbers.append(number)\n",
    "\n",
    "    # Then return the number\n",
    "    return even_numbers\n",
    "\n",
    "numbers = [0, 2, 3, 5, 5, 8]\n",
    "\n",
    "print(only_evens(numbers))"
   ]
  },
  {
   "cell_type": "markdown",
   "metadata": {},
   "source": [
    "Now why is this useful? This is helpful when you need to do the same procedure a bunch of times. If I wanted to get the even numbers out of 20 lists of numbers, I would have to re-write everything in the function above 20 individual times. However, I can call the `only_evens` function with only one line each time that I want to use it, like this:\n",
    "```python\n",
    "evens_1 = only_evens(numbers_1)\n",
    "evens_2 = only_evens(numbers_2)\n",
    "evens_3 = only_evens(numbers_3)\n",
    "...\n",
    "```\n",
    "\n",
    "### Exercise 3: `numpy` review\n",
    "\n",
    "This is a good place to remind you that when you have lists of numbers, you could turn them into numpy _arrays_, and use their special powers to do your work. In Exercise 2, you worked with a program that goes through a list of numbers to tell you which ones are even. You might recall that in the lesson on numpy, in Exercise 6, we figured out which numbers were even and odd for an entire numpy array at once. \n",
    "\n",
    "Refer back to the numpy lesson, and in the cell below, re-write the `only_evens` function to use numpy, instead of a `for` loop. Call this new function `only_evens_numpy`. Run it on the list of numbers and show that it works. \n",
    "\n",
    "_Hint:_ Don't forget to import numpy, with the line\n",
    "```python\n",
    "import numpy as np\n",
    "```"
   ]
  },
  {
   "cell_type": "code",
   "execution_count": 9,
   "metadata": {
    "collapsed": false
   },
   "outputs": [
    {
     "name": "stdout",
     "output_type": "stream",
     "text": [
      "[0, 2, 8]\n"
     ]
    }
   ],
   "source": [
    "import numpy as np\n",
    "\n",
    "def only_evens_numpy(list_of_numbers):\n",
    "    \"\"\"Take a list of numbers, and return a list of only the even numbers\"\"\"\n",
    "\n",
    "    array = np.array(list_of_numbers)\n",
    "    even_indices = (array % 2 == 0)\n",
    "    \n",
    "    return array[even_indices]\n",
    "\n",
    "print(only_evens(numbers))"
   ]
  },
  {
   "cell_type": "markdown",
   "metadata": {},
   "source": [
    "One of the questions you might be asking yourself is: \"why do we use numpy if we can just write the functions ourselves?\" One reason is that it's usually faster to write these operations with numpy (see above, the numpy version has fewer lines of code).\n",
    "\n",
    "The real reason is that **numpy is way faster** than pure Python without numpy. Let's demonstrate that here.\n",
    "\n",
    "### Exercise 4: Benchmarking\n",
    "\n",
    "We're going to use a function in numpy to make a really big list of numbers for this exercise. In the cell below, execute: \n",
    "```python\n",
    "lots_of_numbers = np.random.randint(0, 100, 100000)\n",
    "print(lots_of_numbers)\n",
    "```\n",
    "That will create an array of 100,000 random numbers between zero and 100.\n",
    "\n",
    "We're now going to run our two `only_even` and `only_even_numpy` functions on `lots_of_numbers`, to see which one is fastest. To time a function in an iPython Notebook, you use the `%timeit` magic function, like this:\n",
    "```python\n",
    "%timeit only_evens(lots_of_numbers)\n",
    "%timeit only_evens_numpy(lots_of_numbers)\n",
    "```\n",
    "The output tells you how long it takes to run each function (usually in units of ms=milliseconds). \n",
    "\n",
    "How much faster is the numpy version? (This is why we use numpy!)"
   ]
  },
  {
   "cell_type": "code",
   "execution_count": 17,
   "metadata": {
    "collapsed": false
   },
   "outputs": [
    {
     "name": "stdout",
     "output_type": "stream",
     "text": [
      "[82 40 92 ..., 25 85 56]\n",
      "10 loops, best of 3: 34.6 ms per loop\n",
      "100 loops, best of 3: 2.33 ms per loop\n"
     ]
    }
   ],
   "source": [
    "lots_of_numbers = np.random.randint(0, 100, 100000)\n",
    "print(lots_of_numbers)\n",
    "\n",
    "%timeit only_evens(lots_of_numbers)\n",
    "%timeit only_evens_numpy(lots_of_numbers)"
   ]
  },
  {
   "cell_type": "code",
   "execution_count": null,
   "metadata": {
    "collapsed": true
   },
   "outputs": [],
   "source": []
  }
 ],
 "metadata": {
  "kernelspec": {
   "display_name": "Python 3",
   "language": "python",
   "name": "python3"
  },
  "language_info": {
   "codemirror_mode": {
    "name": "ipython",
    "version": 3
   },
   "file_extension": ".py",
   "mimetype": "text/x-python",
   "name": "python",
   "nbconvert_exporter": "python",
   "pygments_lexer": "ipython3",
   "version": "3.5.2"
  }
 },
 "nbformat": 4,
 "nbformat_minor": 0
}
